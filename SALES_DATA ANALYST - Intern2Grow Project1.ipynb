{
 "cells": [
  {
   "cell_type": "code",
   "execution_count": 1,
   "id": "269f72de",
   "metadata": {},
   "outputs": [],
   "source": [
    "import pandas as pd\n",
    "import matplotlib.pyplot as plt\n",
    "import seaborn as sns\n",
    "import warnings\n",
    "warnings.filterwarnings('ignore')\n",
    "%matplotlib inline\n"
   ]
  },
  {
   "cell_type": "code",
   "execution_count": 2,
   "id": "82bf1168",
   "metadata": {},
   "outputs": [
    {
     "data": {
      "text/html": [
       "<div>\n",
       "<style scoped>\n",
       "    .dataframe tbody tr th:only-of-type {\n",
       "        vertical-align: middle;\n",
       "    }\n",
       "\n",
       "    .dataframe tbody tr th {\n",
       "        vertical-align: top;\n",
       "    }\n",
       "\n",
       "    .dataframe thead th {\n",
       "        text-align: right;\n",
       "    }\n",
       "</style>\n",
       "<table border=\"1\" class=\"dataframe\">\n",
       "  <thead>\n",
       "    <tr style=\"text-align: right;\">\n",
       "      <th></th>\n",
       "      <th>date</th>\n",
       "      <th>product</th>\n",
       "      <th>category</th>\n",
       "      <th>price</th>\n",
       "      <th>quantity</th>\n",
       "      <th>revenue</th>\n",
       "    </tr>\n",
       "  </thead>\n",
       "  <tbody>\n",
       "    <tr>\n",
       "      <th>0</th>\n",
       "      <td>2022-01-01</td>\n",
       "      <td>Smartphone</td>\n",
       "      <td>Electronics</td>\n",
       "      <td>600.0</td>\n",
       "      <td>10.0</td>\n",
       "      <td>6000.0</td>\n",
       "    </tr>\n",
       "    <tr>\n",
       "      <th>1</th>\n",
       "      <td>2022-01-01</td>\n",
       "      <td>Laptop</td>\n",
       "      <td>Electronics</td>\n",
       "      <td>1200.0</td>\n",
       "      <td>5.0</td>\n",
       "      <td>6000.0</td>\n",
       "    </tr>\n",
       "    <tr>\n",
       "      <th>2</th>\n",
       "      <td>2022-01-02</td>\n",
       "      <td>T-Shirt</td>\n",
       "      <td>Clothing</td>\n",
       "      <td>20.0</td>\n",
       "      <td>50.0</td>\n",
       "      <td>1000.0</td>\n",
       "    </tr>\n",
       "    <tr>\n",
       "      <th>3</th>\n",
       "      <td>2022-01-03</td>\n",
       "      <td>Headphones</td>\n",
       "      <td>Electronics</td>\n",
       "      <td>100.0</td>\n",
       "      <td>20.0</td>\n",
       "      <td>2000.0</td>\n",
       "    </tr>\n",
       "    <tr>\n",
       "      <th>4</th>\n",
       "      <td>2022-01-04</td>\n",
       "      <td>T-Shirt</td>\n",
       "      <td>Clothing</td>\n",
       "      <td>20.0</td>\n",
       "      <td>25.0</td>\n",
       "      <td>500.0</td>\n",
       "    </tr>\n",
       "    <tr>\n",
       "      <th>...</th>\n",
       "      <td>...</td>\n",
       "      <td>...</td>\n",
       "      <td>...</td>\n",
       "      <td>...</td>\n",
       "      <td>...</td>\n",
       "      <td>...</td>\n",
       "    </tr>\n",
       "    <tr>\n",
       "      <th>364</th>\n",
       "      <td>2022-12-27</td>\n",
       "      <td>Watch</td>\n",
       "      <td>Accessories</td>\n",
       "      <td>150.0</td>\n",
       "      <td>5.0</td>\n",
       "      <td>750.0</td>\n",
       "    </tr>\n",
       "    <tr>\n",
       "      <th>365</th>\n",
       "      <td>2022-12-28</td>\n",
       "      <td>Coat</td>\n",
       "      <td>Clothing</td>\n",
       "      <td>100.0</td>\n",
       "      <td>5.0</td>\n",
       "      <td>500.0</td>\n",
       "    </tr>\n",
       "    <tr>\n",
       "      <th>366</th>\n",
       "      <td>2022-12-29</td>\n",
       "      <td>Headphones</td>\n",
       "      <td>Electronics</td>\n",
       "      <td>100.0</td>\n",
       "      <td>10.0</td>\n",
       "      <td>1000.0</td>\n",
       "    </tr>\n",
       "    <tr>\n",
       "      <th>367</th>\n",
       "      <td>2022-12-30</td>\n",
       "      <td>Smartphone</td>\n",
       "      <td>Electronics</td>\n",
       "      <td>600.0</td>\n",
       "      <td>11.0</td>\n",
       "      <td>6600.0</td>\n",
       "    </tr>\n",
       "    <tr>\n",
       "      <th>368</th>\n",
       "      <td>2022-12-31</td>\n",
       "      <td>Hoodie</td>\n",
       "      <td>Clothing</td>\n",
       "      <td>40.0</td>\n",
       "      <td>30.0</td>\n",
       "      <td>1200.0</td>\n",
       "    </tr>\n",
       "  </tbody>\n",
       "</table>\n",
       "<p>369 rows × 6 columns</p>\n",
       "</div>"
      ],
      "text/plain": [
       "           date     product     category   price  quantity  revenue\n",
       "0    2022-01-01  Smartphone  Electronics   600.0      10.0   6000.0\n",
       "1    2022-01-01      Laptop  Electronics  1200.0       5.0   6000.0\n",
       "2    2022-01-02     T-Shirt     Clothing    20.0      50.0   1000.0\n",
       "3    2022-01-03  Headphones  Electronics   100.0      20.0   2000.0\n",
       "4    2022-01-04     T-Shirt     Clothing    20.0      25.0    500.0\n",
       "..          ...         ...          ...     ...       ...      ...\n",
       "364  2022-12-27       Watch  Accessories   150.0       5.0    750.0\n",
       "365  2022-12-28        Coat     Clothing   100.0       5.0    500.0\n",
       "366  2022-12-29  Headphones  Electronics   100.0      10.0   1000.0\n",
       "367  2022-12-30  Smartphone  Electronics   600.0      11.0   6600.0\n",
       "368  2022-12-31      Hoodie     Clothing    40.0      30.0   1200.0\n",
       "\n",
       "[369 rows x 6 columns]"
      ]
     },
     "execution_count": 2,
     "metadata": {},
     "output_type": "execute_result"
    }
   ],
   "source": [
    "in_file='sales_data.csv'\n",
    "df=pd.read_csv(in_file)\n",
    "df"
   ]
  },
  {
   "cell_type": "code",
   "execution_count": 3,
   "id": "fca48a4d",
   "metadata": {},
   "outputs": [
    {
     "name": "stdout",
     "output_type": "stream",
     "text": [
      "         date     product     category   price  quantity  revenue\n",
      "0  2022-01-01  Smartphone  Electronics   600.0      10.0   6000.0\n",
      "1  2022-01-01      Laptop  Electronics  1200.0       5.0   6000.0\n",
      "2  2022-01-02     T-Shirt     Clothing    20.0      50.0   1000.0\n",
      "3  2022-01-03  Headphones  Electronics   100.0      20.0   2000.0\n",
      "4  2022-01-04     T-Shirt     Clothing    20.0      25.0    500.0\n"
     ]
    }
   ],
   "source": [
    "# Display the first few rows of the dataset to understand its structure\n",
    "\n",
    "print(df.head())"
   ]
  },
  {
   "cell_type": "code",
   "execution_count": 4,
   "id": "5e161e35",
   "metadata": {},
   "outputs": [
    {
     "name": "stdout",
     "output_type": "stream",
     "text": [
      "date        0\n",
      "product     0\n",
      "category    0\n",
      "price       2\n",
      "quantity    1\n",
      "revenue     1\n",
      "dtype: int64\n"
     ]
    }
   ],
   "source": [
    "# Check for missing values and handle them if necessary\n",
    "\n",
    "print(df.isnull().sum())\n"
   ]
  },
  {
   "cell_type": "code",
   "execution_count": 5,
   "id": "edd5e2c4",
   "metadata": {},
   "outputs": [],
   "source": [
    "# Handle missing values in 'price', 'quantity', 'revenue'\n",
    "\n",
    "mean_price = df['price'].mean()\n",
    "mean_quantity = df['quantity'].mean()\n",
    "mean_revenue = df['revenue'].mean()"
   ]
  },
  {
   "cell_type": "code",
   "execution_count": 6,
   "id": "ac3e2532",
   "metadata": {},
   "outputs": [],
   "source": [
    "df['price'].fillna(mean_price, inplace=True)\n",
    "df['quantity'].fillna(mean_quantity, inplace=True)\n",
    "df['revenue'].fillna(mean_revenue, inplace=True)"
   ]
  },
  {
   "cell_type": "code",
   "execution_count": 7,
   "id": "f822d000",
   "metadata": {},
   "outputs": [
    {
     "name": "stdout",
     "output_type": "stream",
     "text": [
      "date        0\n",
      "product     0\n",
      "category    0\n",
      "price       0\n",
      "quantity    0\n",
      "revenue     0\n",
      "dtype: int64\n"
     ]
    }
   ],
   "source": [
    "# Verify that there are no more missing values\n",
    "\n",
    "print(df.isnull().sum())"
   ]
  },
  {
   "cell_type": "code",
   "execution_count": 8,
   "id": "25180031",
   "metadata": {},
   "outputs": [],
   "source": [
    "# Convert the 'date' column to datetime type\n",
    "\n",
    "df['date'] = pd.to_datetime(df['date'])\n"
   ]
  },
  {
   "cell_type": "code",
   "execution_count": 9,
   "id": "0bb38f02",
   "metadata": {},
   "outputs": [
    {
     "name": "stdout",
     "output_type": "stream",
     "text": [
      "Total Revenue: $760390.68\n"
     ]
    }
   ],
   "source": [
    "# Calculate total revenue generated by the company over the course of the year\n",
    "\n",
    "total_revenue = df['revenue'].sum()\n",
    "print(f'Total Revenue: ${total_revenue:.2f}')\n"
   ]
  },
  {
   "cell_type": "code",
   "execution_count": 10,
   "id": "06658332",
   "metadata": {},
   "outputs": [
    {
     "name": "stdout",
     "output_type": "stream",
     "text": [
      "Highest Revenue Product: Smartphone, Revenue: $7200.00\n"
     ]
    }
   ],
   "source": [
    "# Identify the product with the highest revenue and the corresponding revenue\n",
    "\n",
    "highest_revenue_product = df.loc[df['revenue'].idxmax()]\n",
    "print(f'Highest Revenue Product: {highest_revenue_product[\"product\"]}, Revenue: ${highest_revenue_product[\"revenue\"]:.2f}')\n"
   ]
  },
  {
   "cell_type": "code",
   "execution_count": 11,
   "id": "6924e8fd",
   "metadata": {},
   "outputs": [
    {
     "name": "stdout",
     "output_type": "stream",
     "text": [
      "Average Price: $211.23\n"
     ]
    }
   ],
   "source": [
    "# Calculate the average price of a product sold by the company\n",
    "\n",
    "average_price = df['price'].mean()\n",
    "print(f'Average Price: ${average_price:.2f}')\n"
   ]
  },
  {
   "cell_type": "code",
   "execution_count": 12,
   "id": "e8fb920b",
   "metadata": {},
   "outputs": [
    {
     "name": "stdout",
     "output_type": "stream",
     "text": [
      "Total Quantity Sold: 5374.57\n"
     ]
    }
   ],
   "source": [
    "# Calculate the total quantity of products sold by the company\n",
    "\n",
    "total_quantity = df['quantity'].sum()\n",
    "print(f'Total Quantity Sold: {total_quantity:.2f}')"
   ]
  },
  {
   "cell_type": "code",
   "execution_count": 13,
   "id": "ee649127",
   "metadata": {},
   "outputs": [
    {
     "name": "stdout",
     "output_type": "stream",
     "text": [
      "Highest Revenue Category: Electronics, Revenue: $516080.00\n"
     ]
    }
   ],
   "source": [
    "# Identify the category with the highest revenue and the corresponding revenue\n",
    "\n",
    "highest_revenue_category = df.groupby('category')['revenue'].sum().idxmax()\n",
    "category_revenue = df.groupby('category')['revenue'].sum().max()\n",
    "print(f'Highest Revenue Category: {highest_revenue_category}, Revenue: ${category_revenue:.2f}')"
   ]
  },
  {
   "cell_type": "code",
   "execution_count": 14,
   "id": "5ebdd70f",
   "metadata": {},
   "outputs": [
    {
     "name": "stdout",
     "output_type": "stream",
     "text": [
      "Average Revenue per Sale: $2060.68\n"
     ]
    }
   ],
   "source": [
    "# Calculate the average revenue per sale\n",
    "\n",
    "average_revenue_per_sale = df['revenue'].mean()\n",
    "print(f'Average Revenue per Sale: ${average_revenue_per_sale:.2f}')"
   ]
  },
  {
   "cell_type": "code",
   "execution_count": 15,
   "id": "999ab6e5",
   "metadata": {},
   "outputs": [
    {
     "name": "stdout",
     "output_type": "stream",
     "text": [
      "Total Revenue in Each Quarter:\n",
      "quarter\n",
      "1    182100.00\n",
      "2    186030.68\n",
      "3    197680.00\n",
      "4    194580.00\n",
      "Name: revenue, dtype: float64\n"
     ]
    }
   ],
   "source": [
    "# Calculate the total revenue generated in each quarter of the year\n",
    "\n",
    "df['quarter'] = df['date'].dt.quarter\n",
    "quarterly_revenue = df.groupby('quarter')['revenue'].sum()\n",
    "print('Total Revenue in Each Quarter:')\n",
    "print(quarterly_revenue.round(2))  # round to 2 decimal places"
   ]
  },
  {
   "cell_type": "code",
   "execution_count": 16,
   "id": "8a8fff47",
   "metadata": {},
   "outputs": [
    {
     "data": {
      "image/png": "[encoded data removed]",
      "text/plain": [
       "<Figure size 1000x600 with 1 Axes>"
      ]
     },
     "metadata": {},
     "output_type": "display_data"
    }
   ],
   "source": [
    "# Plot total revenue in each quarter using seaborn\n",
    "plt.figure(figsize=(10, 6))\n",
    "sns.barplot(x=quarterly_revenue.index, y=quarterly_revenue.values, color='g')\n",
    "plt.xlabel('Quarter',fontsize = '15')\n",
    "plt.ylabel('Total Revenue', fontsize = '15')\n",
    "plt.title('Total Revenue in Each Quarter', fontweight='bold',fontsize = '15')\n",
    "plt.show()"
   ]
  },
  {
   "cell_type": "markdown",
   "id": "f153c452",
   "metadata": {},
   "source": [
    "ANSWERS TO ASSESSMENT QUESTIONS\n",
    "\n",
    "1. What was the total revenue generated by the company over the course of the year?\n",
    "ANS: $760390.68\n",
    "\n",
    "2. Which product had the highest revenue? How much revenue did it generate?ANS: Highest Revenue Product: Smartphone, Revenue: $7200.00\n",
    "\n",
    "3. What was the average price of a product sold by the company?\n",
    "ANS: $211.23\n",
    "\n",
    "4. What was the total quantity of products sold by the company?\n",
    "ANS: 5374.57\n",
    "\n",
    "5. Which category had the highest revenue? How much revenue did it generate?\n",
    "ANS: Highest Revenue Category: Electronics, Revenue: $516080.00\n",
    "\n",
    "6. What was the average revenue per sale?\n",
    "ANS: $2060.68\n",
    "\n",
    "7. What was the total revenue generated in each quarter of the year? (i.e. Q1, Q2, Q3, Q4)\n",
    "ANS: Quarter\n",
    "1    182100.00\n",
    "2    186030.68\n",
    "3    197680.00\n",
    "4    194580.00\n"
   ]
  },
  {
   "cell_type": "markdown",
   "id": "c8c34089",
   "metadata": {},
   "source": [
    "\n",
    "Here are some additional insights and observations that might be relevant based on the analysis:\n",
    "\n",
    "1. Seasonal Trends: Analyzing the total revenue in each quarter allows you to identify potential seasonal trends in sales. For example, if the company sells products influenced by holidays or seasons, you may observe higher revenues in specific quarters.\n",
    "\n",
    "2. Product Performance: The visualization of the product with the highest revenue provides insights into which product contributes significantly to the company's overall revenue. This information can be valuable for inventory management and marketing strategies.\n",
    "\n",
    "3. Revenue by Category: Identifying the category with the highest revenue helps in understanding the company's revenue distribution across different product categories. This insight can guide strategic decisions related to product offerings and marketing focus.\n",
    "\n",
    "4. Average Price and Quantity: Calculating the average price and total quantity sold provides a sense of the pricing strategy and product demand. A higher average price may indicate premium products, while a higher quantity sold may suggest popular and affordable items.\n",
    "\n",
    "5. Revenue Per Sale: Understanding the average revenue per sale gives an indication of the overall profitability of each transaction. It helps in assessing the effectiveness of pricing and sales strategies.\n",
    "\n",
    "6. Handling Missing Values: Addressing missing values in 'price', 'quantity', and 'revenue' ensures the accuracy of the analysis. The chosen approach, such as replacing missing values with mean values, may impact the results, and alternative methods could be explored based on the nature of the data.\n",
    "\n",
    "7. Visualizations: The use of visualizations, whether with matplotlib or seaborn, enhances the interpretability of the analysis. Bar charts are effective for comparing values across categories, and adjusting colors and styles can improve the visual appeal.\n",
    "\n",
    "8. Data Cleaning: Ensuring data integrity through steps like converting the 'date' column to datetime type is crucial. Clean data contributes to reliable analysis and prevents errors in calculations.\n",
    "\n"
   ]
  },
  {
   "cell_type": "code",
   "execution_count": null,
   "id": "15c320ff",
   "metadata": {},
   "outputs": [],
   "source": []
  }
 ],
 "metadata": {
  "kernelspec": {
   "display_name": "Python 3 (ipykernel)",
   "language": "python",
   "name": "python3"
  },
  "language_info": {
   "codemirror_mode": {
    "name": "ipython",
    "version": 3
   },
   "file_extension": ".py",
   "mimetype": "text/x-python",
   "name": "python",
   "nbconvert_exporter": "python",
   "pygments_lexer": "ipython3",
   "version": "3.10.9"
  }
 },
 "nbformat": 4,
 "nbformat_minor": 5
}
